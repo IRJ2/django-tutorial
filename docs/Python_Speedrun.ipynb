{
 "cells": [
  {
   "cell_type": "markdown",
   "id": "4cb04d68",
   "metadata": {},
   "source": [
    "# __Python Speedrun__\n",
    "#### A speedrunning mission presented to you by _Naxxatra Sciences_"
   ]
  },
  {
   "cell_type": "markdown",
   "id": "b56a1d26",
   "metadata": {},
   "source": [
    "## Basic Operations"
   ]
  },
  {
   "cell_type": "markdown",
   "id": "2e776c1e",
   "metadata": {},
   "source": [
    "### Arithmetic Operations"
   ]
  },
  {
   "cell_type": "code",
   "execution_count": 2,
   "id": "3acf5735",
   "metadata": {},
   "outputs": [
    {
     "data": {
      "text/plain": [
       "10"
      ]
     },
     "execution_count": 2,
     "metadata": {},
     "output_type": "execute_result"
    }
   ],
   "source": [
    "5+5"
   ]
  },
  {
   "cell_type": "code",
   "execution_count": 3,
   "id": "779b0a65",
   "metadata": {},
   "outputs": [
    {
     "data": {
      "text/plain": [
       "-1"
      ]
     },
     "execution_count": 3,
     "metadata": {},
     "output_type": "execute_result"
    }
   ],
   "source": [
    "1 - 2 # subtraction"
   ]
  },
  {
   "cell_type": "code",
   "execution_count": 4,
   "id": "8156335f",
   "metadata": {},
   "outputs": [
    {
     "data": {
      "text/plain": [
       "6"
      ]
     },
     "execution_count": 4,
     "metadata": {},
     "output_type": "execute_result"
    }
   ],
   "source": [
    "2 * 3 # multiplication"
   ]
  },
  {
   "cell_type": "code",
   "execution_count": 5,
   "id": "082961d5",
   "metadata": {},
   "outputs": [
    {
     "data": {
      "text/plain": [
       "4.5"
      ]
     },
     "execution_count": 5,
     "metadata": {},
     "output_type": "execute_result"
    }
   ],
   "source": [
    "9 / 2 # division"
   ]
  },
  {
   "cell_type": "code",
   "execution_count": 6,
   "id": "37fe799c",
   "metadata": {},
   "outputs": [
    {
     "data": {
      "text/plain": [
       "4"
      ]
     },
     "execution_count": 6,
     "metadata": {},
     "output_type": "execute_result"
    }
   ],
   "source": [
    "9 // 2 # floor division"
   ]
  },
  {
   "cell_type": "code",
   "execution_count": 8,
   "id": "66b4de21",
   "metadata": {},
   "outputs": [
    {
     "data": {
      "text/plain": [
       "16"
      ]
     },
     "execution_count": 8,
     "metadata": {},
     "output_type": "execute_result"
    }
   ],
   "source": [
    "\n",
    "4**2"
   ]
  },
  {
   "cell_type": "code",
   "execution_count": 9,
   "id": "3c7cc07a",
   "metadata": {},
   "outputs": [
    {
     "data": {
      "text/plain": [
       "1"
      ]
     },
     "execution_count": 9,
     "metadata": {},
     "output_type": "execute_result"
    }
   ],
   "source": [
    "5 % 2 # modulus"
   ]
  },
  {
   "cell_type": "markdown",
   "id": "b378278c",
   "metadata": {},
   "source": [
    "### Comparison Operations"
   ]
  },
  {
   "cell_type": "code",
   "execution_count": 11,
   "id": "f3d8f389",
   "metadata": {},
   "outputs": [
    {
     "data": {
      "text/plain": [
       "True"
      ]
     },
     "execution_count": 11,
     "metadata": {},
     "output_type": "execute_result"
    }
   ],
   "source": [
    "2 == 3 #Is it equal?\n",
    "\n",
    "\"gec\" == \"gec\" #Is it equal?"
   ]
  },
  {
   "cell_type": "code",
   "execution_count": 12,
   "id": "77811d73",
   "metadata": {},
   "outputs": [
    {
     "data": {
      "text/plain": [
       "True"
      ]
     },
     "execution_count": 12,
     "metadata": {},
     "output_type": "execute_result"
    }
   ],
   "source": [
    "1 != 2 #Is it NOT equal?"
   ]
  },
  {
   "cell_type": "code",
   "execution_count": 13,
   "id": "3c4791ee",
   "metadata": {},
   "outputs": [
    {
     "data": {
      "text/plain": [
       "True"
      ]
     },
     "execution_count": 13,
     "metadata": {},
     "output_type": "execute_result"
    }
   ],
   "source": [
    "7 < 11 #Is it lesser?"
   ]
  },
  {
   "cell_type": "code",
   "execution_count": 14,
   "id": "8c6651d7",
   "metadata": {},
   "outputs": [
    {
     "data": {
      "text/plain": [
       "False"
      ]
     },
     "execution_count": 14,
     "metadata": {},
     "output_type": "execute_result"
    }
   ],
   "source": [
    "5 > 9 #Is it greater?"
   ]
  },
  {
   "cell_type": "code",
   "execution_count": 15,
   "id": "17806905",
   "metadata": {},
   "outputs": [
    {
     "data": {
      "text/plain": [
       "False"
      ]
     },
     "execution_count": 15,
     "metadata": {},
     "output_type": "execute_result"
    }
   ],
   "source": [
    "67 >= 88 #Is it greater than or equal?"
   ]
  },
  {
   "cell_type": "code",
   "execution_count": 16,
   "id": "f72fab59",
   "metadata": {},
   "outputs": [
    {
     "data": {
      "text/plain": [
       "True"
      ]
     },
     "execution_count": 16,
     "metadata": {},
     "output_type": "execute_result"
    }
   ],
   "source": [
    "42 >= 42"
   ]
  },
  {
   "cell_type": "code",
   "execution_count": 17,
   "id": "d247e706",
   "metadata": {},
   "outputs": [
    {
     "data": {
      "text/plain": [
       "True"
      ]
     },
     "execution_count": 17,
     "metadata": {},
     "output_type": "execute_result"
    }
   ],
   "source": [
    "24 <= 666 #Is it lesser than or equal?"
   ]
  },
  {
   "cell_type": "markdown",
   "id": "edb12aff",
   "metadata": {},
   "source": [
    "### Logical Operations"
   ]
  },
  {
   "cell_type": "code",
   "execution_count": 21,
   "id": "58e2da0b",
   "metadata": {},
   "outputs": [
    {
     "data": {
      "text/plain": [
       "True"
      ]
     },
     "execution_count": 21,
     "metadata": {},
     "output_type": "execute_result"
    }
   ],
   "source": [
    "(1 < 2) or (3 < 5) #If either of the 2 operations returns true, the final result will also be true\n",
    "\n",
    "\n",
    "8 < 5 or True"
   ]
  },
  {
   "cell_type": "code",
   "execution_count": 20,
   "id": "5fb5ccd5",
   "metadata": {},
   "outputs": [
    {
     "data": {
      "text/plain": [
       "False"
      ]
     },
     "execution_count": 20,
     "metadata": {},
     "output_type": "execute_result"
    }
   ],
   "source": [
    "(4 == 3) and (10 != 10) #Both operations need to return true in order for the final result to be true"
   ]
  },
  {
   "cell_type": "code",
   "execution_count": 22,
   "id": "e605928d",
   "metadata": {},
   "outputs": [
    {
     "data": {
      "text/plain": [
       "True"
      ]
     },
     "execution_count": 22,
     "metadata": {},
     "output_type": "execute_result"
    }
   ],
   "source": [
    "(32 >= 20) and (6 != 5)"
   ]
  },
  {
   "cell_type": "code",
   "execution_count": 23,
   "id": "327752bf",
   "metadata": {},
   "outputs": [
    {
     "data": {
      "text/plain": [
       "False"
      ]
     },
     "execution_count": 23,
     "metadata": {},
     "output_type": "execute_result"
    }
   ],
   "source": [
    "not (5*3 == 15) #Reversal"
   ]
  },
  {
   "cell_type": "code",
   "execution_count": 26,
   "id": "74085497",
   "metadata": {},
   "outputs": [
    {
     "data": {
      "text/plain": [
       "True"
      ]
     },
     "execution_count": 26,
     "metadata": {},
     "output_type": "execute_result"
    }
   ],
   "source": [
    "not (5*3 == 14)"
   ]
  },
  {
   "cell_type": "markdown",
   "id": "8f822255",
   "metadata": {},
   "source": [
    "## Variables"
   ]
  },
  {
   "cell_type": "code",
   "execution_count": 29,
   "id": "6ad46eec",
   "metadata": {},
   "outputs": [
    {
     "name": "stdout",
     "output_type": "stream",
     "text": [
      "The number a is 10\n",
      "The double of a is 20\n"
     ]
    }
   ],
   "source": [
    "a = 10\n",
    "\n",
    "print(\"The number a is\", a)\n",
    "print(\"The double of a is\", a*2)"
   ]
  },
  {
   "cell_type": "code",
   "execution_count": 31,
   "id": "5a6e4390",
   "metadata": {},
   "outputs": [
    {
     "name": "stdout",
     "output_type": "stream",
     "text": [
      "minion\n",
      "the given name is minion\n"
     ]
    }
   ],
   "source": [
    "name = \"minion\"\n",
    "\n",
    "print(name)\n",
    "print(\"the given name is\", name)\n"
   ]
  },
  {
   "cell_type": "code",
   "execution_count": 32,
   "id": "c0e4238b",
   "metadata": {},
   "outputs": [
    {
     "name": "stdout",
     "output_type": "stream",
     "text": [
      "42 X-rays\n"
     ]
    }
   ],
   "source": [
    "b = 42\n",
    "B = \"X-rays\"\n",
    "\n",
    "print(b,B)"
   ]
  },
  {
   "cell_type": "code",
   "execution_count": 36,
   "id": "3e78a2be",
   "metadata": {},
   "outputs": [
    {
     "name": "stdout",
     "output_type": "stream",
     "text": [
      "22\n",
      "Antappan\n"
     ]
    }
   ],
   "source": [
    "D = 22\n",
    "print(D)\n",
    "D = \"Antappan\"\n",
    "print(D)"
   ]
  },
  {
   "cell_type": "markdown",
   "id": "a01a475e",
   "metadata": {},
   "source": [
    "### Data types\n",
    "\n",
    "Integer\n",
    "```python\n",
    "int\n",
    "-1, 2, 0, 1000\n",
    "```\n",
    "---\n",
    "\n",
    "Float \n",
    "```python\n",
    "float\n",
    "0.1, 2.76, -9.45\n",
    "```\n",
    "---\n",
    "Strings\n",
    "\n",
    "```python\n",
    "str\n",
    "'python', 'NAXXATRA', \"hello\", \"wonder\"\n",
    "\n",
    "\"\"\"disco\"\"\",\n",
    "\n",
    "\"\"\"\n",
    "this is a multi-line string\n",
    "\"\"\"\n",
    "\n",
    "```\n",
    "---\n",
    "Boolean\n",
    "```python\n",
    "bool\n",
    "True, False \n",
    "```\n",
    "---\n",
    "None\n",
    "```python\n",
    "None\n",
    "```"
   ]
  },
  {
   "cell_type": "code",
   "execution_count": 42,
   "id": "a3443385",
   "metadata": {},
   "outputs": [
    {
     "name": "stdout",
     "output_type": "stream",
     "text": [
      "\n",
      "I am a paragraph.\n",
      "I am a paragraph.\n",
      "I am a paragraph.\n",
      "\n"
     ]
    }
   ],
   "source": [
    "type(a)\n",
    "\n",
    "b = \"Hello\"\n",
    "type(b)\n",
    "\n",
    "\n",
    "c = False\n",
    "type(c)\n",
    "\n",
    "d = None\n",
    "type(d)\n",
    "\n",
    "name = \"John doe\"\n",
    "\n",
    "city = 'New York'\n",
    "\n",
    "paragraph = \"\"\"\n",
    "I am a paragraph.\n",
    "I am a paragraph.\n",
    "I am a paragraph.\n",
    "\"\"\"\n",
    "\n",
    "print(paragraph)"
   ]
  },
  {
   "cell_type": "code",
   "execution_count": null,
   "id": "7abe23cf",
   "metadata": {},
   "outputs": [],
   "source": []
  },
  {
   "cell_type": "code",
   "execution_count": 43,
   "id": "ffff4cf2",
   "metadata": {},
   "outputs": [
    {
     "name": "stdout",
     "output_type": "stream",
     "text": [
      "20\n"
     ]
    }
   ],
   "source": [
    "b = 20\n",
    "print(b)"
   ]
  },
  {
   "cell_type": "code",
   "execution_count": 44,
   "id": "4caa187f",
   "metadata": {},
   "outputs": [
    {
     "name": "stdout",
     "output_type": "stream",
     "text": [
      "30\n",
      "-10\n",
      "200\n",
      "0.5\n",
      "True\n",
      "False\n",
      "False\n"
     ]
    }
   ],
   "source": [
    "print(a + b)\n",
    "print(a - b)\n",
    "print(a * b)\n",
    "print(a / b)\n",
    "print(a < b)\n",
    "print(a > b)\n",
    "print(a == b)"
   ]
  },
  {
   "cell_type": "code",
   "execution_count": 45,
   "id": "79d2b56f",
   "metadata": {},
   "outputs": [],
   "source": [
    "del a,b"
   ]
  },
  {
   "cell_type": "code",
   "execution_count": 48,
   "id": "e9639c66",
   "metadata": {},
   "outputs": [
    {
     "ename": "NameError",
     "evalue": "name 'b' is not defined",
     "output_type": "error",
     "traceback": [
      "\u001b[0;31m---------------------------------------------------------------------------\u001b[0m",
      "\u001b[0;31mNameError\u001b[0m                                 Traceback (most recent call last)",
      "\u001b[1;32m/home/jishnu/Projects/tutorials/django/docs/Python_Speedrun.ipynb Cell 36'\u001b[0m in \u001b[0;36m<cell line: 1>\u001b[0;34m()\u001b[0m\n\u001b[0;32m----> <a href='vscode-notebook-cell:/home/jishnu/Projects/tutorials/django/docs/Python_Speedrun.ipynb#ch0000094?line=0'>1</a>\u001b[0m \u001b[39mprint\u001b[39m(b)\n",
      "\u001b[0;31mNameError\u001b[0m: name 'b' is not defined"
     ]
    }
   ],
   "source": [
    "print(b)"
   ]
  },
  {
   "cell_type": "markdown",
   "id": "11c72e43",
   "metadata": {},
   "source": [
    "## Strings"
   ]
  },
  {
   "cell_type": "code",
   "execution_count": 51,
   "id": "2455181e",
   "metadata": {},
   "outputs": [
    {
     "name": "stdout",
     "output_type": "stream",
     "text": [
      "laka \n",
      "luku \n"
     ]
    }
   ],
   "source": [
    "# Strings are collection of characters\n",
    "str1 = 'laka '\n",
    "str2 = 'luku '\n",
    "print(str1)\n",
    "print(str2)"
   ]
  },
  {
   "cell_type": "code",
   "execution_count": 52,
   "id": "31e2b88a",
   "metadata": {},
   "outputs": [
    {
     "name": "stdout",
     "output_type": "stream",
     "text": [
      "laka luku \n",
      "laka laka laka laka laka \n"
     ]
    }
   ],
   "source": [
    "print(str1 + str2)\n",
    "print(str1 * 5)"
   ]
  },
  {
   "cell_type": "code",
   "execution_count": 55,
   "id": "023bf119",
   "metadata": {},
   "outputs": [
    {
     "data": {
      "text/plain": [
       "'gec palakkad'"
      ]
     },
     "execution_count": 55,
     "metadata": {},
     "output_type": "execute_result"
    }
   ],
   "source": [
    "name = \"GEC Palakkad\"\n",
    "name.lower()"
   ]
  },
  {
   "cell_type": "code",
   "execution_count": 53,
   "id": "589dba69",
   "metadata": {},
   "outputs": [
    {
     "data": {
      "text/plain": [
       "('LAKA ', 'luku ')"
      ]
     },
     "execution_count": 53,
     "metadata": {},
     "output_type": "execute_result"
    }
   ],
   "source": [
    "str1.upper(), str2.lower()"
   ]
  },
  {
   "cell_type": "code",
   "execution_count": null,
   "id": "b92eca40",
   "metadata": {},
   "outputs": [],
   "source": [
    "s1 = '1'\n",
    "s2 = '2'\n",
    "print(s1 + s2)"
   ]
  },
  {
   "cell_type": "code",
   "execution_count": 66,
   "id": "7ee71125",
   "metadata": {},
   "outputs": [
    {
     "data": {
      "text/plain": [
       "'fg'"
      ]
     },
     "execution_count": 66,
     "metadata": {},
     "output_type": "execute_result"
    }
   ],
   "source": [
    "str1 = \"abcdefgh\"\n",
    "\n",
    "#Indexing (Collections in python are 0-indexed, i.e, the first element's index is 0)\n",
    "str1[0:5]\n",
    "\n",
    "str1[-3:-1]"
   ]
  },
  {
   "cell_type": "code",
   "execution_count": 63,
   "id": "7a4e96ce",
   "metadata": {},
   "outputs": [
    {
     "name": "stdout",
     "output_type": "stream",
     "text": [
      "bcde\n"
     ]
    }
   ],
   "source": [
    "#Slicing - str1[start : stop : step] \n",
    "print(str1[1:5])"
   ]
  },
  {
   "cell_type": "code",
   "execution_count": null,
   "id": "ce0026bd",
   "metadata": {},
   "outputs": [],
   "source": [
    "del str1, str2, s1, s2"
   ]
  },
  {
   "cell_type": "markdown",
   "id": "9d7a45de",
   "metadata": {},
   "source": [
    "## Type Conversion"
   ]
  },
  {
   "cell_type": "code",
   "execution_count": 67,
   "id": "35b17625",
   "metadata": {},
   "outputs": [],
   "source": [
    "a = 10\n",
    "b = str(a)\n",
    "c = float(a)"
   ]
  },
  {
   "cell_type": "code",
   "execution_count": 68,
   "id": "bfd24c6d",
   "metadata": {},
   "outputs": [
    {
     "name": "stdout",
     "output_type": "stream",
     "text": [
      "10\n",
      "10\n",
      "10.0\n"
     ]
    }
   ],
   "source": [
    "print(a,b,c,sep=\"\\n\")"
   ]
  },
  {
   "cell_type": "code",
   "execution_count": 69,
   "id": "82345d7d",
   "metadata": {},
   "outputs": [
    {
     "data": {
      "text/plain": [
       "int"
      ]
     },
     "execution_count": 69,
     "metadata": {},
     "output_type": "execute_result"
    }
   ],
   "source": [
    "type(a)"
   ]
  },
  {
   "cell_type": "code",
   "execution_count": 70,
   "id": "d6eb784c",
   "metadata": {},
   "outputs": [
    {
     "data": {
      "text/plain": [
       "str"
      ]
     },
     "execution_count": 70,
     "metadata": {},
     "output_type": "execute_result"
    }
   ],
   "source": [
    "type(b)"
   ]
  },
  {
   "cell_type": "code",
   "execution_count": 71,
   "id": "e48637e2",
   "metadata": {},
   "outputs": [
    {
     "data": {
      "text/plain": [
       "float"
      ]
     },
     "execution_count": 71,
     "metadata": {},
     "output_type": "execute_result"
    }
   ],
   "source": [
    "type(c)"
   ]
  },
  {
   "cell_type": "code",
   "execution_count": 72,
   "id": "c82f00e8",
   "metadata": {},
   "outputs": [],
   "source": [
    "d = int(b)"
   ]
  },
  {
   "cell_type": "code",
   "execution_count": 74,
   "id": "4ecc516a",
   "metadata": {},
   "outputs": [
    {
     "data": {
      "text/plain": [
       "10"
      ]
     },
     "execution_count": 74,
     "metadata": {},
     "output_type": "execute_result"
    }
   ],
   "source": [
    "type(d)\n",
    "d"
   ]
  },
  {
   "cell_type": "code",
   "execution_count": 80,
   "id": "31cd01f0",
   "metadata": {},
   "outputs": [
    {
     "ename": "ValueError",
     "evalue": "invalid literal for int() with base 10: '10.123123'",
     "output_type": "error",
     "traceback": [
      "\u001b[0;31m---------------------------------------------------------------------------\u001b[0m",
      "\u001b[0;31mValueError\u001b[0m                                Traceback (most recent call last)",
      "\u001b[1;32m/home/jishnu/Projects/tutorials/django/docs/Python_Speedrun.ipynb Cell 54'\u001b[0m in \u001b[0;36m<cell line: 5>\u001b[0;34m()\u001b[0m\n\u001b[1;32m      <a href='vscode-notebook-cell:/home/jishnu/Projects/tutorials/django/docs/Python_Speedrun.ipynb#ch0000097?line=0'>1</a>\u001b[0m b \u001b[39m=\u001b[39m \u001b[39m'\u001b[39m\u001b[39m10.123123\u001b[39m\u001b[39m'\u001b[39m\n\u001b[1;32m      <a href='vscode-notebook-cell:/home/jishnu/Projects/tutorials/django/docs/Python_Speedrun.ipynb#ch0000097?line=2'>3</a>\u001b[0m \u001b[39mfloat\u001b[39m(b)\n\u001b[0;32m----> <a href='vscode-notebook-cell:/home/jishnu/Projects/tutorials/django/docs/Python_Speedrun.ipynb#ch0000097?line=4'>5</a>\u001b[0m \u001b[39mint\u001b[39;49m(b)\n",
      "\u001b[0;31mValueError\u001b[0m: invalid literal for int() with base 10: '10.123123'"
     ]
    }
   ],
   "source": [
    "b = '10.123123'\n",
    "\n",
    "float(b)\n",
    "\n",
    "int(b)"
   ]
  },
  {
   "cell_type": "code",
   "execution_count": null,
   "id": "3b14ee2e",
   "metadata": {},
   "outputs": [],
   "source": [
    "# a = input(\"Enter the first number: \")\n",
    "# type(a)"
   ]
  },
  {
   "cell_type": "code",
   "execution_count": null,
   "id": "017ebea6",
   "metadata": {},
   "outputs": [],
   "source": [
    "# a = int(input(\"Enter the first number: \"))\n",
    "# type(a)"
   ]
  },
  {
   "cell_type": "code",
   "execution_count": null,
   "id": "c575f812",
   "metadata": {},
   "outputs": [],
   "source": [
    "del a,b,c,d"
   ]
  },
  {
   "cell_type": "markdown",
   "id": "4513150c",
   "metadata": {},
   "source": [
    "## Lists\n",
    "\n",
    "Mutable collection of heterogenous items"
   ]
  },
  {
   "cell_type": "code",
   "execution_count": 81,
   "id": "1cafe60c",
   "metadata": {},
   "outputs": [],
   "source": [
    "# Mutable collection of heterogenous items\n",
    "l = [1, 2, 'a', 0.4, False, None]"
   ]
  },
  {
   "cell_type": "code",
   "execution_count": 85,
   "id": "40cdb234",
   "metadata": {},
   "outputs": [
    {
     "data": {
      "text/plain": [
       "False"
      ]
     },
     "execution_count": 85,
     "metadata": {},
     "output_type": "execute_result"
    }
   ],
   "source": [
    "l[-2] # accessing by index"
   ]
  },
  {
   "cell_type": "code",
   "execution_count": 86,
   "id": "5f75a3ee",
   "metadata": {},
   "outputs": [
    {
     "data": {
      "text/plain": [
       "['a', 0.4]"
      ]
     },
     "execution_count": 86,
     "metadata": {},
     "output_type": "execute_result"
    }
   ],
   "source": [
    "l[2:4] # accessing a slice"
   ]
  },
  {
   "cell_type": "code",
   "execution_count": 87,
   "id": "14da4d57",
   "metadata": {},
   "outputs": [
    {
     "data": {
      "text/plain": [
       "[1, 2, 'a', 0.4, False, None, 42]"
      ]
     },
     "execution_count": 87,
     "metadata": {},
     "output_type": "execute_result"
    }
   ],
   "source": [
    "l.append(42) # adding to end of a list\n",
    "l"
   ]
  },
  {
   "cell_type": "code",
   "execution_count": 88,
   "id": "db28b069",
   "metadata": {},
   "outputs": [
    {
     "data": {
      "text/plain": [
       "[1, 2, 'a', 0.4, False, None, 42, [9, 0]]"
      ]
     },
     "execution_count": 88,
     "metadata": {},
     "output_type": "execute_result"
    }
   ],
   "source": [
    "l.append([9,0]) # adding to a list\n",
    "l"
   ]
  },
  {
   "cell_type": "code",
   "execution_count": 91,
   "id": "508ff330",
   "metadata": {},
   "outputs": [
    {
     "data": {
      "text/plain": [
       "0"
      ]
     },
     "execution_count": 91,
     "metadata": {},
     "output_type": "execute_result"
    }
   ],
   "source": [
    "l[-1][1] # accessing the first element of the last list"
   ]
  },
  {
   "cell_type": "markdown",
   "id": "7ab44bdf",
   "metadata": {},
   "source": [
    "## Dictionary\n",
    "\n",
    "key value pairs"
   ]
  },
  {
   "cell_type": "code",
   "execution_count": 92,
   "id": "92fce8dc",
   "metadata": {},
   "outputs": [],
   "source": [
    "apple = {\n",
    "    \"name\": \"Apple\", \n",
    "    \"price\": 100, \n",
    "    \"color\": \"red\"\n",
    "}\n",
    "\n",
    "\n",
    "orange = {\"name\": \"orange\", \"price\": 50, \"color\": \"orange\"}"
   ]
  },
  {
   "cell_type": "code",
   "execution_count": 103,
   "id": "696b6094",
   "metadata": {},
   "outputs": [
    {
     "name": "stdout",
     "output_type": "stream",
     "text": [
      "No detail found!\n",
      "this is a critical operation\n"
     ]
    }
   ],
   "source": [
    "person = {\"name\": \"John\", \"age\": 30}\n",
    "\n",
    "# print(person)\n",
    "# print(person[\"name\"])\n",
    "# print(person.get(\"name\", \"Not found\"))\n",
    "print(person.get(\"occupation\", \"No detail found!\"))\n",
    "# print(person[\"occupation\"])\n",
    "\n",
    "\n",
    "print(\"this is a critical operation\")"
   ]
  },
  {
   "cell_type": "markdown",
   "id": "32190944",
   "metadata": {},
   "source": [
    "## Conditional Statements"
   ]
  },
  {
   "cell_type": "code",
   "execution_count": 105,
   "id": "8269860b",
   "metadata": {},
   "outputs": [],
   "source": [
    "a = 10\n",
    "b = 20\n",
    "c = 30"
   ]
  },
  {
   "cell_type": "markdown",
   "id": "03da80cf",
   "metadata": {},
   "source": [
    "```javascript\n",
    "if (a>b) {\n",
    "    console.log(\"a is greater than b\");\n",
    "}\n",
    "```"
   ]
  },
  {
   "cell_type": "code",
   "execution_count": 112,
   "id": "ae2883a6",
   "metadata": {},
   "outputs": [
    {
     "name": "stdout",
     "output_type": "stream",
     "text": [
      "b is greater than a\n",
      "1 is greater than 0\n"
     ]
    }
   ],
   "source": [
    "if a > b:\n",
    "    print(\"a is greater than b\")\n",
    "else:\n",
    "    print(\"b is greater than a\")\n",
    "    if 1 > 0:\n",
    "        print(\"1 is greater than 0\")\n",
    "    else:\n",
    "        print(\"0 is greater than 1\")\n"
   ]
  },
  {
   "cell_type": "code",
   "execution_count": 119,
   "id": "e1af5e45",
   "metadata": {},
   "outputs": [
    {
     "name": "stdout",
     "output_type": "stream",
     "text": [
      "Both conditions are true\n"
     ]
    }
   ],
   "source": [
    "if (10 > 4) or (12 > 6):\n",
    "    print(\"Both conditions are true\")"
   ]
  },
  {
   "cell_type": "code",
   "execution_count": 114,
   "id": "e9b1cd84",
   "metadata": {},
   "outputs": [
    {
     "name": "stdout",
     "output_type": "stream",
     "text": [
      "c is the largest\n"
     ]
    }
   ],
   "source": [
    "if (a > b) and (a > c):\n",
    "    print(\"a is the largest\")\n",
    "elif (b > a) and (b > c):\n",
    "    print(\"b is the largest\")\n",
    "else:\n",
    "    print(\"c is the largest\")"
   ]
  },
  {
   "cell_type": "code",
   "execution_count": null,
   "id": "65fdbdaf",
   "metadata": {},
   "outputs": [],
   "source": [
    "del a, b, c"
   ]
  },
  {
   "cell_type": "markdown",
   "id": "fb6269e4",
   "metadata": {},
   "source": [
    "## Looping Statements"
   ]
  },
  {
   "cell_type": "markdown",
   "id": "0fc4722a",
   "metadata": {},
   "source": [
    "### For loops"
   ]
  },
  {
   "cell_type": "code",
   "execution_count": null,
   "id": "23177c40",
   "metadata": {},
   "outputs": [],
   "source": [
    "sample_list = [1,2,3,4,5]\n",
    "\n",
    "for number in sample_list:\n",
    "    print(number)"
   ]
  },
  {
   "cell_type": "code",
   "execution_count": null,
   "id": "0efda12c",
   "metadata": {},
   "outputs": [],
   "source": [
    "l = [1,2,3,4,5]\n",
    "\n",
    "for i in l:\n",
    "    print(i)"
   ]
  },
  {
   "cell_type": "code",
   "execution_count": 127,
   "id": "e08d75a2",
   "metadata": {},
   "outputs": [
    {
     "name": "stdout",
     "output_type": "stream",
     "text": [
      "2\n",
      "3\n",
      "naxxatra\n",
      "rasp\n"
     ]
    }
   ],
   "source": [
    "for i in [2, 3, 'naxxatra', 'rasp']:\n",
    "    print(i)"
   ]
  },
  {
   "cell_type": "markdown",
   "id": "25dafef4",
   "metadata": {},
   "source": [
    "### While loops"
   ]
  },
  {
   "cell_type": "code",
   "execution_count": 129,
   "id": "0458bbb8",
   "metadata": {},
   "outputs": [
    {
     "name": "stdout",
     "output_type": "stream",
     "text": [
      "Python 0\n",
      "Python 1\n",
      "Python 2\n",
      "Python 3\n",
      "Python 4\n",
      "Python 5\n",
      "Python 6\n",
      "Python 7\n",
      "Python 8\n",
      "Python 9\n",
      "Python 10\n"
     ]
    }
   ],
   "source": [
    "num = 0\n",
    "while num <= 10:\n",
    "    print(\"Python\",num)\n",
    "    num = num + 1"
   ]
  },
  {
   "cell_type": "markdown",
   "id": "45c795e9",
   "metadata": {},
   "source": [
    "## Functions"
   ]
  },
  {
   "cell_type": "code",
   "execution_count": 131,
   "id": "4fed8a66",
   "metadata": {},
   "outputs": [],
   "source": [
    "def addition(a, b):\n",
    "    sum_of_two_nmbers = a + b\n",
    "    return sum_of_two_nmbers"
   ]
  },
  {
   "cell_type": "code",
   "execution_count": 133,
   "id": "126bcbab",
   "metadata": {},
   "outputs": [
    {
     "name": "stdout",
     "output_type": "stream",
     "text": [
      "10\n",
      "50\n"
     ]
    }
   ],
   "source": [
    "n1,n2 = 4,6\n",
    "n3 = addition(n1, n2)\n",
    "print(n3)\n",
    "\n",
    "\n",
    "apples = 20\n",
    "oranges = 30\n",
    "\n",
    "number_of_fruits = addition(apples, oranges)\n",
    "print(number_of_fruits)\n"
   ]
  },
  {
   "cell_type": "code",
   "execution_count": 142,
   "id": "f4477130",
   "metadata": {},
   "outputs": [],
   "source": [
    "def print_full_name(first_name, last_name, designation=\"Mr.\"):\n",
    "    print(\"Hello,\", designation, first_name, last_name)\n"
   ]
  },
  {
   "cell_type": "code",
   "execution_count": 146,
   "id": "8eda4082",
   "metadata": {},
   "outputs": [
    {
     "name": "stdout",
     "output_type": "stream",
     "text": [
      "Hello, Ms. Irene Rose Johnson\n"
     ]
    }
   ],
   "source": [
    "print_full_name(first_name=\"Irene\", last_name=\"Rose Johnson\", designation=\"Ms.\")"
   ]
  },
  {
   "cell_type": "code",
   "execution_count": 143,
   "id": "5cbf1a5a",
   "metadata": {},
   "outputs": [
    {
     "name": "stdout",
     "output_type": "stream",
     "text": [
      "Hello, Mr. John Doe\n",
      "Hello, Mr. Sooraj M\n",
      "Hello, Mr. John Doe\n",
      "Hello, Mr. John Doe\n"
     ]
    }
   ],
   "source": [
    "print_full_name(\"John\", \"Doe\")\n",
    "print_full_name(\"Sooraj\", \"M\")\n",
    "\n",
    "\n",
    "print_full_name(first_name=\"John\", last_name=\"Doe\")\n",
    "print_full_name(last_name=\"Doe\", first_name=\"John\")"
   ]
  },
  {
   "cell_type": "code",
   "execution_count": 141,
   "id": "854b041d",
   "metadata": {},
   "outputs": [
    {
     "name": "stdout",
     "output_type": "stream",
     "text": [
      "Hello, John Doe\n",
      "Hello, Doe John\n"
     ]
    }
   ],
   "source": [
    "print_full_name(last_name=\"Doe\", first_name=\"John\")\n",
    "print_full_name(\"Doe\", \"John\")"
   ]
  },
  {
   "cell_type": "markdown",
   "id": "53dda72a",
   "metadata": {},
   "source": [
    "### Default Arguments"
   ]
  },
  {
   "cell_type": "code",
   "execution_count": 147,
   "id": "6ec423fd",
   "metadata": {},
   "outputs": [],
   "source": [
    "def greet(name = \"Alfred\"):\n",
    "    print(\"Hello \" + name)"
   ]
  },
  {
   "cell_type": "code",
   "execution_count": 148,
   "id": "ffcec087",
   "metadata": {},
   "outputs": [
    {
     "name": "stdout",
     "output_type": "stream",
     "text": [
      "Hello Bruce\n"
     ]
    }
   ],
   "source": [
    "greet(\"Bruce\")"
   ]
  },
  {
   "cell_type": "code",
   "execution_count": 149,
   "id": "555f53bc",
   "metadata": {},
   "outputs": [
    {
     "name": "stdout",
     "output_type": "stream",
     "text": [
      "Hello Alfred\n"
     ]
    }
   ],
   "source": [
    "greet()"
   ]
  },
  {
   "cell_type": "markdown",
   "id": "69209742",
   "metadata": {},
   "source": [
    "### Keyword Arguments"
   ]
  },
  {
   "cell_type": "code",
   "execution_count": 150,
   "id": "0d7163a5",
   "metadata": {},
   "outputs": [],
   "source": [
    "def greet(msg, name):\n",
    "    print(msg + \" \" + name)"
   ]
  },
  {
   "cell_type": "code",
   "execution_count": 151,
   "id": "ffa99fc2",
   "metadata": {},
   "outputs": [
    {
     "name": "stdout",
     "output_type": "stream",
     "text": [
      "Good morning Peter\n"
     ]
    }
   ],
   "source": [
    "greet(\"Good morning\", \"Peter\")"
   ]
  },
  {
   "cell_type": "code",
   "execution_count": 152,
   "id": "d8d23827",
   "metadata": {},
   "outputs": [
    {
     "name": "stdout",
     "output_type": "stream",
     "text": [
      "Good night Peter\n"
     ]
    }
   ],
   "source": [
    "greet(name=\"Peter\", msg=\"Good night\")"
   ]
  },
  {
   "cell_type": "markdown",
   "id": "550bc755",
   "metadata": {},
   "source": [
    "### Arbitrary Arguments"
   ]
  },
  {
   "cell_type": "code",
   "execution_count": 153,
   "id": "5215bf8b",
   "metadata": {},
   "outputs": [],
   "source": [
    "def greet(*names):\n",
    "    for name in names:\n",
    "        print(\"Hello \" + name)"
   ]
  },
  {
   "cell_type": "code",
   "execution_count": 154,
   "id": "18955961",
   "metadata": {},
   "outputs": [
    {
     "name": "stdout",
     "output_type": "stream",
     "text": [
      "Hello Tony\n",
      "Hello Alfred\n",
      "Hello Bruce\n"
     ]
    }
   ],
   "source": [
    "greet(\"Tony\", \"Alfred\", \"Bruce\")"
   ]
  },
  {
   "cell_type": "code",
   "execution_count": 157,
   "id": "b97e2a48",
   "metadata": {},
   "outputs": [],
   "source": [
    "def greet(*names):\n",
    "    for name in names:\n",
    "        print(\"Hello \"+ name)\n",
    "\n",
    "def greet(*names):\n",
    "    for name in names: #f-strings implementation\n",
    "        print(f\"Hello {name}\")\n",
    "\n",
    "def greet(*names):\n",
    "    for name in names:\n",
    "        print(\"Hello %s\"%(name))"
   ]
  },
  {
   "cell_type": "code",
   "execution_count": 158,
   "id": "6028beed",
   "metadata": {},
   "outputs": [
    {
     "name": "stdout",
     "output_type": "stream",
     "text": [
      "Hello Tony\n",
      "Hello Alfred\n",
      "Hello Bruce\n"
     ]
    }
   ],
   "source": [
    "greet(\"Tony\", \"Alfred\", \"Bruce\")"
   ]
  },
  {
   "cell_type": "markdown",
   "id": "249ae761",
   "metadata": {},
   "source": [
    "## Importing Packages"
   ]
  },
  {
   "cell_type": "code",
   "execution_count": null,
   "id": "85cbd525",
   "metadata": {},
   "outputs": [],
   "source": [
    "import random"
   ]
  },
  {
   "cell_type": "code",
   "execution_count": null,
   "id": "60a340eb",
   "metadata": {},
   "outputs": [],
   "source": [
    "l = [1, 2, 3, 4, 5]\n",
    "random.choice(l)"
   ]
  },
  {
   "cell_type": "code",
   "execution_count": null,
   "id": "40c04bbe",
   "metadata": {},
   "outputs": [],
   "source": [
    "random.randint(4, 30)"
   ]
  },
  {
   "cell_type": "code",
   "execution_count": null,
   "id": "06d6d122",
   "metadata": {},
   "outputs": [],
   "source": [
    "random.random()"
   ]
  },
  {
   "cell_type": "code",
   "execution_count": null,
   "id": "beedc9ca",
   "metadata": {},
   "outputs": [],
   "source": [
    "import math"
   ]
  },
  {
   "cell_type": "code",
   "execution_count": null,
   "id": "08aee8cd",
   "metadata": {},
   "outputs": [],
   "source": [
    "x = 3\n",
    "print(math.sin(x))"
   ]
  },
  {
   "cell_type": "code",
   "execution_count": null,
   "id": "a4d89333",
   "metadata": {},
   "outputs": [],
   "source": [
    "y = 36\n",
    "print(math.sqrt(y))"
   ]
  }
 ],
 "metadata": {
  "kernelspec": {
   "display_name": "Python 3 (ipykernel)",
   "language": "python",
   "name": "python3"
  },
  "language_info": {
   "codemirror_mode": {
    "name": "ipython",
    "version": 3
   },
   "file_extension": ".py",
   "mimetype": "text/x-python",
   "name": "python",
   "nbconvert_exporter": "python",
   "pygments_lexer": "ipython3",
   "version": "3.8.10"
  }
 },
 "nbformat": 4,
 "nbformat_minor": 5
}
